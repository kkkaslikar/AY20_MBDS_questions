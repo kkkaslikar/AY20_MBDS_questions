{
 "cells": [
  {
   "cell_type": "markdown",
   "id": "plain-forest",
   "metadata": {},
   "source": [
    "# Table of contents"
   ]
  },
  {
   "cell_type": "markdown",
   "id": "korean-reply",
   "metadata": {},
   "source": [
    "- [Code explanation for question 7](#code-explanation-for-question-7)\n",
    "    - [Imports](#imports)\n",
    "    - [Defining function for converting co-ordinates to index](#defining-function-for-converting-co-ordinates-to-index)\n",
    "    - [Defining function for converting index to co-ordinates](#defining-function-for-converting-index-to-co-ordinates)\n",
    "    - [Examples](#examples)\n",
    "        - [Example one](#example-one)\n",
    "        - [Example two](#example-two)\n",
    "    - [Actually solving question 7](#actually-solving-question-7)\n",
    "        - [Question 7.1b](#question-71b)\n",
    "            - [Coordinates to index](#coordinates-to-index)\n",
    "            - [Index to coordinates](#index-to-coordinates)\n",
    "        - [Question 7.2b](#question-72b)\n",
    "            - [Coordinates to index](#coordinates-to-index-1)\n",
    "            - [Index to coordinates](#index-to-coordinates-1)\n"
   ]
  },
  {
   "cell_type": "markdown",
   "id": "instant-friend",
   "metadata": {},
   "source": [
    "# Code explanation for question 7"
   ]
  },
  {
   "cell_type": "markdown",
   "id": "likely-ambassador",
   "metadata": {},
   "source": [
    "This notebook contains the code explanation for question 7, as well as actual generation of the solution itself."
   ]
  },
  {
   "cell_type": "markdown",
   "id": "intimate-clerk",
   "metadata": {},
   "source": [
    "Please note that for the derivation for the equations to convert indices to coordinates and coordinates to indices in the n-dimensional case, please refer to the answer sheet."
   ]
  },
  {
   "cell_type": "markdown",
   "id": "accomplished-physiology",
   "metadata": {},
   "source": [
    "## Imports"
   ]
  },
  {
   "cell_type": "markdown",
   "id": "gentle-phoenix",
   "metadata": {},
   "source": [
    "Please note that the library `os` has only been noted to facilitate directory navigation and file input/output and has no contribution whatsoever in the derivation of the code for the solution."
   ]
  },
  {
   "cell_type": "code",
   "execution_count": 1,
   "id": "roman-applicant",
   "metadata": {},
   "outputs": [],
   "source": [
    "import os"
   ]
  },
  {
   "cell_type": "code",
   "execution_count": 2,
   "id": "rocky-external",
   "metadata": {},
   "outputs": [],
   "source": [
    "curDir = os.getcwd()"
   ]
  },
  {
   "cell_type": "markdown",
   "id": "isolated-essex",
   "metadata": {},
   "source": [
    "## Defining function for converting co-ordinates to index"
   ]
  },
  {
   "cell_type": "markdown",
   "id": "efficient-pasta",
   "metadata": {},
   "source": [
    "The following function `calc_index` converts coordinates to an index. It takes two arguments. The first argument is `ndim`, which is an integer list that contains the length of each dimension. For example, for a 4x3x2 array where len(x1) = 4, len(x2) = 3 and len(x3) = 2, `ndim` would be `[4, 3, 2]`. The other argument is `coord`, which is also an integer list which gives the coordinates of the point which are to be converted into an index. For example, for point x1=1, x2=2, x3=1, `coord` would be `[1, 2, 1]`.\n",
    "\n",
    "The output of the function is an integer `index`."
   ]
  },
  {
   "cell_type": "markdown",
   "id": "prompt-arctic",
   "metadata": {},
   "source": [
    "**Important note**:\n",
    "\n",
    "Please note that by the **convention given in the question sheet itself**, x1 = column coordinate and x2 = row coordinate. Hence, an array with 3 rows and 4 columns will have len(x1) = 4 and len(x2) = 3 **for the purposes of this question only**. Its `ndim` will be 4x3 (or `[4,3]`).\n",
    "\n",
    "This is different from the usual convention of writing the number of rows first, followed by the number of columns."
   ]
  },
  {
   "cell_type": "code",
   "execution_count": 15,
   "id": "practical-turtle",
   "metadata": {},
   "outputs": [],
   "source": [
    "def calc_index(ndim, coord):\n",
    "\n",
    "    n1 = len(coord) - 1     # initialising iteration variable n1; iterates over the entries in coord\n",
    "    index = 0               # initialising index; will be incremented during subsequent loops\n",
    " \n",
    "    while n1 > 0:           # outer loop iterates over the coordinates, beginning with the last one (outermost), except the first one (innermost)\n",
    "        mult = coord[n1]    # initialising multiplication variable; the selected coord will be iteratively multiplied in inner loop\n",
    "        n2 = n1-1           # initialising variable n2; iterates over entries in ndim \n",
    "        \n",
    "        while n2 > -1:       # inner loop iterates over ndim, beginning with the second-last entry all the way up to the first one\n",
    "            mult *= ndim[n2] # multiply the selected coord with the lengths of all the dimensions preceding the dimension of the coord\n",
    "            n2 -= 1\n",
    "        \n",
    "        index += mult        # add the multiplied number to current index value\n",
    "        n1 -= 1\n",
    "\n",
    "    else:\n",
    "        index += coord[n1]   # if finished summing up multiples for all the coord entries except the first one, add coord[0] to index\n",
    "\n",
    "    return(index)"
   ]
  },
  {
   "cell_type": "markdown",
   "id": "lasting-julian",
   "metadata": {},
   "source": [
    "## Defining function for converting index to co-ordinates"
   ]
  },
  {
   "cell_type": "markdown",
   "id": "thousand-conference",
   "metadata": {},
   "source": [
    "The following function `calc_coord` converts an index into coordinates. It takes two arguments. The first argument is `ndim`, which is an integer list that contains the length of each dimension. The other argument is `index`, which is an integer which gives the index of a point in the array which is to be converted into coordinates. \n",
    "\n",
    "The output of the function is an integer list `coord` giving the coordinates of the point such that x1 is first, followed by x2, x3 ... xn."
   ]
  },
  {
   "cell_type": "code",
   "execution_count": 10,
   "id": "accessible-mixture",
   "metadata": {},
   "outputs": [],
   "source": [
    "def calc_coord(ndim, index):\n",
    "\n",
    "    coord = len(ndim)*[\"\"] # initialise the variable\n",
    "    \n",
    "    n1 = len(ndim) - 1\n",
    "\n",
    "    while n1 > 0:               \n",
    "        \n",
    "        mult = 1\n",
    "        \n",
    "        n2 = n1-1\n",
    "        \n",
    "        while n2 > -1:\n",
    "            mult *= ndim[n2]     # product of the dimension lengths of all the dimensions coming before n1\n",
    "            n2 -= 1\n",
    "        \n",
    "        coord[n1]= index // mult # floor division\n",
    "        index = index % mult     # getting the remainder of the division of the index by mult\n",
    "        n1 -= 1\n",
    "\n",
    "    else:\n",
    "        coord[n1] = index\n",
    "\n",
    "    return(coord)"
   ]
  },
  {
   "cell_type": "markdown",
   "id": "adjacent-creature",
   "metadata": {},
   "source": [
    "## Examples"
   ]
  },
  {
   "cell_type": "markdown",
   "id": "hundred-monkey",
   "metadata": {},
   "source": [
    "Looking at two example arrays, and the results of applying the above functions to the arrays."
   ]
  },
  {
   "cell_type": "markdown",
   "id": "offensive-production",
   "metadata": {},
   "source": [
    "### Example one\n",
    "\n",
    "The first example is an array with dimensions 4x3 (according to the notation used for this question; please see note in section 1.2 above). The entries in the array correspond to the expected index that we should get upon using `calc_index`."
   ]
  },
  {
   "cell_type": "code",
   "execution_count": 16,
   "id": "adopted-document",
   "metadata": {},
   "outputs": [
    {
     "data": {
      "text/plain": [
       "[[0, 1, 2, 3], [4, 5, 6, 7], [8, 9, 10, 11]]"
      ]
     },
     "execution_count": 16,
     "metadata": {},
     "output_type": "execute_result"
    }
   ],
   "source": [
    "b = [[0, 1, 2, 3],\n",
    "     [4, 5, 6, 7],\n",
    "     [8, 9, 10, 11]]\n",
    "\n",
    "b"
   ]
  },
  {
   "cell_type": "markdown",
   "id": "funny-pastor",
   "metadata": {},
   "source": [
    "Getting the index for coordinates (2, 1)."
   ]
  },
  {
   "cell_type": "code",
   "execution_count": 17,
   "id": "useful-cooling",
   "metadata": {},
   "outputs": [],
   "source": [
    "ndim = [4, 3]\n",
    "\n",
    "coord = [2, 1]"
   ]
  },
  {
   "cell_type": "code",
   "execution_count": 18,
   "id": "contemporary-equilibrium",
   "metadata": {
    "scrolled": true
   },
   "outputs": [
    {
     "data": {
      "text/plain": [
       "6"
      ]
     },
     "execution_count": 18,
     "metadata": {},
     "output_type": "execute_result"
    }
   ],
   "source": [
    "calc_index(ndim = ndim, coord = coord)"
   ]
  },
  {
   "cell_type": "markdown",
   "id": "missing-decline",
   "metadata": {},
   "source": [
    "Looking at the expected index that we should get."
   ]
  },
  {
   "cell_type": "code",
   "execution_count": 24,
   "id": "arbitrary-final",
   "metadata": {
    "scrolled": true
   },
   "outputs": [
    {
     "data": {
      "text/plain": [
       "6"
      ]
     },
     "execution_count": 24,
     "metadata": {},
     "output_type": "execute_result"
    }
   ],
   "source": [
    "b[1][2] # needs to be subset using outer coordinate (x2) first, followed by inner coordinate (x1)"
   ]
  },
  {
   "cell_type": "markdown",
   "id": "polish-blade",
   "metadata": {},
   "source": [
    "`calc_coord` should be able to reverse this process and give us back our original coordinates for index 6."
   ]
  },
  {
   "cell_type": "code",
   "execution_count": 27,
   "id": "express-while",
   "metadata": {},
   "outputs": [
    {
     "data": {
      "text/plain": [
       "[2, 1]"
      ]
     },
     "execution_count": 27,
     "metadata": {},
     "output_type": "execute_result"
    }
   ],
   "source": [
    "calc_coord(ndim = ndim, index = 6)"
   ]
  },
  {
   "cell_type": "markdown",
   "id": "durable-joseph",
   "metadata": {},
   "source": [
    "### Example two\n",
    "\n",
    "The first example is an array with dimensions 4x3x2. The entries in the array correspond to the expected index that we should get upon using `calc_index`."
   ]
  },
  {
   "cell_type": "code",
   "execution_count": 28,
   "id": "remarkable-integrity",
   "metadata": {},
   "outputs": [
    {
     "data": {
      "text/plain": [
       "[[[0, 1, 2, 3], [4, 5, 6, 7], [8, 9, 10, 11]],\n",
       " [[12, 13, 14, 15], [16, 17, 18, 19], [20, 21, 22, 23]]]"
      ]
     },
     "execution_count": 28,
     "metadata": {},
     "output_type": "execute_result"
    }
   ],
   "source": [
    "a = [\n",
    "    [[0, 1, 2, 3],\n",
    "     [4, 5, 6, 7],\n",
    "     [8, 9, 10, 11]\n",
    "    ],\n",
    "    [[12, 13, 14, 15],\n",
    "     [16, 17, 18, 19],\n",
    "     [20, 21, 22, 23]\n",
    "    ]\n",
    "]\n",
    "a"
   ]
  },
  {
   "cell_type": "markdown",
   "id": "complex-garbage",
   "metadata": {},
   "source": [
    "Getting the index for coordinates (0, 2, 1)."
   ]
  },
  {
   "cell_type": "code",
   "execution_count": 29,
   "id": "first-prize",
   "metadata": {},
   "outputs": [],
   "source": [
    "ndim = [4, 3, 2]\n",
    "\n",
    "coord = [0, 2, 1]"
   ]
  },
  {
   "cell_type": "code",
   "execution_count": 30,
   "id": "packed-medication",
   "metadata": {
    "scrolled": true
   },
   "outputs": [
    {
     "data": {
      "text/plain": [
       "20"
      ]
     },
     "execution_count": 30,
     "metadata": {},
     "output_type": "execute_result"
    }
   ],
   "source": [
    "calc_index(ndim = ndim, coord = coord)"
   ]
  },
  {
   "cell_type": "markdown",
   "id": "palestinian-relevance",
   "metadata": {},
   "source": [
    "Looking at the expected index that we should get."
   ]
  },
  {
   "cell_type": "code",
   "execution_count": 32,
   "id": "bottom-campaign",
   "metadata": {
    "scrolled": true
   },
   "outputs": [
    {
     "data": {
      "text/plain": [
       "20"
      ]
     },
     "execution_count": 32,
     "metadata": {},
     "output_type": "execute_result"
    }
   ],
   "source": [
    "a[1][2][0] # needs to be subset using outer coordinate (x3) first, followed by inner coordinates x2, x1"
   ]
  },
  {
   "cell_type": "markdown",
   "id": "starting-wrist",
   "metadata": {},
   "source": [
    "`calc_coord` should be able to reverse this process and give us back our original coordinates for index 20."
   ]
  },
  {
   "cell_type": "code",
   "execution_count": 33,
   "id": "accepting-thumbnail",
   "metadata": {},
   "outputs": [
    {
     "data": {
      "text/plain": [
       "[0, 2, 1]"
      ]
     },
     "execution_count": 33,
     "metadata": {},
     "output_type": "execute_result"
    }
   ],
   "source": [
    "calc_coord(ndim = ndim, index = 20)"
   ]
  },
  {
   "cell_type": "markdown",
   "id": "corporate-jewelry",
   "metadata": {},
   "source": [
    "## Actually solving question 7"
   ]
  },
  {
   "cell_type": "markdown",
   "id": "productive-ethics",
   "metadata": {},
   "source": [
    "### Question 7.1b\n",
    "#### Coordinates to index"
   ]
  },
  {
   "cell_type": "markdown",
   "id": "coupled-zambia",
   "metadata": {},
   "source": [
    "Reading in the coordinate file."
   ]
  },
  {
   "cell_type": "code",
   "execution_count": 34,
   "id": "analyzed-municipality",
   "metadata": {},
   "outputs": [
    {
     "name": "stdout",
     "output_type": "stream",
     "text": [
      "1426\n"
     ]
    }
   ],
   "source": [
    "with open(os.path.join(curDir, \"Question 7\", \"Question 7.1\", \"input_coordinates_7_1.txt\"), \"r\") as f:\n",
    "    coordinates = f.readlines()\n",
    "\n",
    "\n",
    "print(len(coordinates))"
   ]
  },
  {
   "cell_type": "markdown",
   "id": "secondary-above",
   "metadata": {},
   "source": [
    "The length of the dimensions is given as (50, 57)"
   ]
  },
  {
   "cell_type": "code",
   "execution_count": 51,
   "id": "active-fortune",
   "metadata": {},
   "outputs": [],
   "source": [
    "ndim = [50, 57]"
   ]
  },
  {
   "cell_type": "code",
   "execution_count": 52,
   "id": "social-prairie",
   "metadata": {},
   "outputs": [
    {
     "data": {
      "text/plain": [
       "6"
      ]
     },
     "execution_count": 52,
     "metadata": {},
     "output_type": "execute_result"
    }
   ],
   "source": [
    "filewrite = open(os.path.join(curDir, \"Question 7\", \"Question 7.1\", \"output_index_7_1.txt\"), \"w\")\n",
    "\n",
    "filewrite.write(\"index\\n\")"
   ]
  },
  {
   "cell_type": "code",
   "execution_count": 53,
   "id": "threatened-ukraine",
   "metadata": {},
   "outputs": [],
   "source": [
    "for coord in coordinates[1:]:  # skipping first line as it is a header line\n",
    "\n",
    "    coord = coord.strip().split(\"\\t\")\n",
    "\n",
    "    coord = [int(x) for x in coord]\n",
    "\n",
    "    index = calc_index(ndim = ndim, coord = coord)\n",
    "    \n",
    "    filewrite.write(f\"{index}\\n\")"
   ]
  },
  {
   "cell_type": "code",
   "execution_count": 54,
   "id": "according-realtor",
   "metadata": {},
   "outputs": [],
   "source": [
    "filewrite.close()"
   ]
  },
  {
   "cell_type": "markdown",
   "id": "rocky-worker",
   "metadata": {},
   "source": [
    "#### Index to coordinates"
   ]
  },
  {
   "cell_type": "markdown",
   "id": "electric-likelihood",
   "metadata": {},
   "source": [
    "Reading in the file"
   ]
  },
  {
   "cell_type": "code",
   "execution_count": 57,
   "id": "activated-nature",
   "metadata": {},
   "outputs": [
    {
     "name": "stdout",
     "output_type": "stream",
     "text": [
      "1426\n"
     ]
    }
   ],
   "source": [
    "with open(os.path.join(curDir, \"Question 7\", \"Question 7.1\", \"input_index_7_1.txt\"), \"r\") as f:\n",
    "    indices = f.readlines()\n",
    "\n",
    "\n",
    "print(len(indices))"
   ]
  },
  {
   "cell_type": "markdown",
   "id": "female-candle",
   "metadata": {},
   "source": [
    "The length of the dimensions is given as (50, 57)"
   ]
  },
  {
   "cell_type": "code",
   "execution_count": 58,
   "id": "aggregate-liverpool",
   "metadata": {},
   "outputs": [],
   "source": [
    "ndim = [50, 57]"
   ]
  },
  {
   "cell_type": "code",
   "execution_count": 81,
   "id": "other-charm",
   "metadata": {},
   "outputs": [
    {
     "data": {
      "text/plain": [
       "6"
      ]
     },
     "execution_count": 81,
     "metadata": {},
     "output_type": "execute_result"
    }
   ],
   "source": [
    "filewrite = open(os.path.join(curDir, \"Question 7\", \"Question 7.1\", \"output_coordinates_7_1.txt\"), \"w\")\n",
    "\n",
    "hline = '\\t'.join(['x1', 'x2'])\n",
    "\n",
    "filewrite.write(f\"{hline}\\n\")"
   ]
  },
  {
   "cell_type": "code",
   "execution_count": 82,
   "id": "sixth-warren",
   "metadata": {},
   "outputs": [],
   "source": [
    "for data in indices[1:]:  # skipping first line as it is a header line\n",
    "    \n",
    "    data = int(data)\n",
    "\n",
    "    coord = calc_coord(ndim = ndim, index = data)\n",
    "    \n",
    "    coord = [str(x) for x in coord]\n",
    "    \n",
    "    line = \"\\t\".join(coord)\n",
    "    \n",
    "    filewrite.write(f\"{line}\\n\")"
   ]
  },
  {
   "cell_type": "code",
   "execution_count": 83,
   "id": "canadian-maryland",
   "metadata": {},
   "outputs": [],
   "source": [
    "filewrite.close()"
   ]
  },
  {
   "cell_type": "markdown",
   "id": "complex-charter",
   "metadata": {},
   "source": [
    "### Question 7.2b\n",
    "#### Coordinates to index"
   ]
  },
  {
   "cell_type": "markdown",
   "id": "federal-angle",
   "metadata": {},
   "source": [
    "Reading in the coordinate file."
   ]
  },
  {
   "cell_type": "code",
   "execution_count": 84,
   "id": "hybrid-sector",
   "metadata": {},
   "outputs": [
    {
     "name": "stdout",
     "output_type": "stream",
     "text": [
      "30241\n"
     ]
    }
   ],
   "source": [
    "with open(os.path.join(curDir, \"Question 7\", \"Question 7.2\", \"input_coordinates_7_2.txt\"), \"r\") as f:\n",
    "    coordinates = f.readlines()\n",
    "\n",
    "\n",
    "print(len(coordinates))"
   ]
  },
  {
   "cell_type": "markdown",
   "id": "embedded-token",
   "metadata": {},
   "source": [
    "The length of the dimensions is given as (4, 8, 5, 9, 6, 7)."
   ]
  },
  {
   "cell_type": "code",
   "execution_count": 85,
   "id": "christian-thanks",
   "metadata": {},
   "outputs": [],
   "source": [
    "ndim = [4, 8, 5, 9, 6, 7]"
   ]
  },
  {
   "cell_type": "code",
   "execution_count": 86,
   "id": "exterior-tension",
   "metadata": {},
   "outputs": [
    {
     "data": {
      "text/plain": [
       "6"
      ]
     },
     "execution_count": 86,
     "metadata": {},
     "output_type": "execute_result"
    }
   ],
   "source": [
    "filewrite = open(os.path.join(curDir, \"Question 7\", \"Question 7.2\", \"output_index_7_2.txt\"), \"w\")\n",
    "\n",
    "filewrite.write(\"index\\n\")"
   ]
  },
  {
   "cell_type": "code",
   "execution_count": 87,
   "id": "addressed-crime",
   "metadata": {},
   "outputs": [],
   "source": [
    "for coord in coordinates[1:]:  # skipping first line as it is a header line\n",
    "\n",
    "    coord = coord.strip().split(\"\\t\")\n",
    "\n",
    "    coord = [int(x) for x in coord]\n",
    "\n",
    "    index = calc_index(ndim = ndim, coord = coord)\n",
    "    \n",
    "    filewrite.write(f\"{index}\\n\")"
   ]
  },
  {
   "cell_type": "code",
   "execution_count": 88,
   "id": "typical-sheriff",
   "metadata": {},
   "outputs": [],
   "source": [
    "filewrite.close()"
   ]
  },
  {
   "cell_type": "markdown",
   "id": "medieval-papua",
   "metadata": {},
   "source": [
    "#### Index to coordinates"
   ]
  },
  {
   "cell_type": "markdown",
   "id": "crude-diagram",
   "metadata": {},
   "source": [
    "Reading in the file"
   ]
  },
  {
   "cell_type": "code",
   "execution_count": 90,
   "id": "earlier-hayes",
   "metadata": {},
   "outputs": [
    {
     "name": "stdout",
     "output_type": "stream",
     "text": [
      "30241\n"
     ]
    }
   ],
   "source": [
    "with open(os.path.join(curDir, \"Question 7\", \"Question 7.2\", \"input_index_7_2.txt\"), \"r\") as f:\n",
    "    indices = f.readlines()\n",
    "\n",
    "\n",
    "print(len(indices))"
   ]
  },
  {
   "cell_type": "markdown",
   "id": "auburn-shareware",
   "metadata": {},
   "source": [
    "The length of the dimensions is given as (4, 8, 5, 9, 6, 7)."
   ]
  },
  {
   "cell_type": "code",
   "execution_count": 91,
   "id": "coral-central",
   "metadata": {},
   "outputs": [],
   "source": [
    "ndim = [4, 8, 5, 9, 6, 7]"
   ]
  },
  {
   "cell_type": "code",
   "execution_count": 96,
   "id": "german-carpet",
   "metadata": {},
   "outputs": [
    {
     "data": {
      "text/plain": [
       "18"
      ]
     },
     "execution_count": 96,
     "metadata": {},
     "output_type": "execute_result"
    }
   ],
   "source": [
    "filewrite = open(os.path.join(curDir, \"Question 7\", \"Question 7.2\", \"output_coordinates_7_2.txt\"), \"w\")\n",
    "\n",
    "hline = '\\t'.join(['x1', 'x2', 'x3', 'x4', 'x5', 'x6'])\n",
    "\n",
    "filewrite.write(f\"{hline}\\n\")"
   ]
  },
  {
   "cell_type": "code",
   "execution_count": 97,
   "id": "functional-syracuse",
   "metadata": {},
   "outputs": [],
   "source": [
    "for data in indices[1:]:  # skipping first line as it is a header line\n",
    "    \n",
    "    data = int(data)\n",
    "\n",
    "    coord = calc_coord(ndim = ndim, index = data)\n",
    "    \n",
    "    coord = [str(x) for x in coord]\n",
    "    \n",
    "    line = \"\\t\".join(coord)\n",
    "    \n",
    "    filewrite.write(f\"{line}\\n\")"
   ]
  },
  {
   "cell_type": "code",
   "execution_count": 98,
   "id": "behavioral-marble",
   "metadata": {},
   "outputs": [],
   "source": [
    "filewrite.close()"
   ]
  }
 ],
 "metadata": {
  "kernelspec": {
   "display_name": "Python 3",
   "language": "python",
   "name": "python3"
  },
  "language_info": {
   "codemirror_mode": {
    "name": "ipython",
    "version": 3
   },
   "file_extension": ".py",
   "mimetype": "text/x-python",
   "name": "python",
   "nbconvert_exporter": "python",
   "pygments_lexer": "ipython3",
   "version": "3.8.6"
  }
 },
 "nbformat": 4,
 "nbformat_minor": 5
}
